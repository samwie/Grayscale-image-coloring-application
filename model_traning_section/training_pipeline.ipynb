{
 "cells": [
  {
   "cell_type": "code",
   "execution_count": 4,
   "id": "76d68439",
   "metadata": {},
   "outputs": [],
   "source": [
    "import glob\n",
    "import numpy as np\n",
    "from PIL import Image\n",
    "import torch \n",
    "import torch.nn as nn\n",
    "from torch.nn.functional import relu\n",
    "from torch.utils.data import Dataset, DataLoader\n",
    "from skimage.color import rgb2lab, lab2rgb\n",
    "from torchvision import transforms"
   ]
  },
  {
   "cell_type": "code",
   "execution_count": 5,
   "id": "6a2ae020",
   "metadata": {},
   "outputs": [
    {
     "name": "stdout",
     "output_type": "stream",
     "text": [
      "env: CUDA_VISIBLE_DEVICES=\"\"\n"
     ]
    }
   ],
   "source": [
    "%env CUDA_VISIBLE_DEVICES=\"\""
   ]
  },
  {
   "cell_type": "code",
   "execution_count": 6,
   "id": "a9403e8e",
   "metadata": {},
   "outputs": [],
   "source": [
    "set_dir = glob.glob('./../dataset/*.jpg')\n",
    "train_set = set_dir[:5703]\n",
    "val_set = set_dir[5703:]"
   ]
  },
  {
   "cell_type": "code",
   "execution_count": 7,
   "id": "40633dff",
   "metadata": {},
   "outputs": [],
   "source": [
    "PIC_SIZE = 256\n",
    "class ColorizationDataset(Dataset):\n",
    "    def __init__(self, paths):\n",
    "        self.transforms = transforms.Resize((PIC_SIZE, PIC_SIZE),  Image.BICUBIC)\n",
    "        \n",
    "        self.pic_size = PIC_SIZE\n",
    "        self.paths = paths\n",
    "        \n",
    "    def __getitem__(self, idx):\n",
    "        img = Image.open(self.paths[idx]).convert(\"RGB\")\n",
    "        img = self.transforms(img)\n",
    "        img = np.array(img)\n",
    "        img_lab = rgb2lab(img).astype('float32')\n",
    "        img_lab = transforms.ToTensor()(img_lab)\n",
    "        L = img_lab[[0], ...] / 50. -1.\n",
    "        ab = img_lab[[1, 2], ...] / 110.\n",
    "                \n",
    "        return {'L': L, 'ab':ab}\n",
    "    \n",
    "    def __len__(self):\n",
    "        return len(self.paths)"
   ]
  },
  {
   "cell_type": "code",
   "execution_count": 8,
   "id": "b59ae1bd",
   "metadata": {},
   "outputs": [],
   "source": [
    "def make_dataloaders(batch_size=16, n_workers=2, pin_memory=True, **kwargs):\n",
    "    dataset = ColorizationDataset(**kwargs)\n",
    "    dataloader = DataLoader(dataset, batch_size=batch_size, num_workers=n_workers,pin_memory=pin_memory)\n",
    "    \n",
    "    return dataloader\n",
    "\n",
    "train_dl = make_dataloaders(paths=train_set)"
   ]
  },
  {
   "cell_type": "code",
   "execution_count": 9,
   "id": "98d4077f",
   "metadata": {},
   "outputs": [],
   "source": [
    "class Conv_block(nn.Module):\n",
    "    def __init__(self, in_channels, out_channels):\n",
    "        super().__init__()\n",
    "        self.conv1 = nn.Conv2d(in_channels, out_channels, kernel_size=3, padding=1)\n",
    "        self.conv2 = nn.Conv2d(out_channels, out_channels, kernel_size=3, padding=1)\n",
    "        \n",
    "    def forward(self, inputs):\n",
    "        x = relu(self.conv1(inputs))\n",
    "        x = relu(self.conv2(x))\n",
    "        \n",
    "        return x"
   ]
  },
  {
   "cell_type": "code",
   "execution_count": 10,
   "id": "4894ef15",
   "metadata": {},
   "outputs": [],
   "source": [
    "class Encoder_block(nn.Module):\n",
    "    def __init__(self, in_channels, out_channels):\n",
    "        super().__init__()\n",
    "        self.convolution = Conv_block(in_channels, out_channels)\n",
    "        self.pool = nn.MaxPool2d(kernel_size = 2, stride = 2)\n",
    "        \n",
    "    def forward (self, inputs):\n",
    "        x = self.convolution(inputs)\n",
    "        p = self.pool(x)\n",
    "        \n",
    "        return x, p"
   ]
  },
  {
   "cell_type": "code",
   "execution_count": 11,
   "id": "2de5eb43",
   "metadata": {},
   "outputs": [],
   "source": [
    "class Decoder_block(nn.Module):\n",
    "    def __init__ (self, in_channels, out_channels):\n",
    "        super().__init__()\n",
    "        self.upconv = nn.ConvTranspose2d(in_channels, in_channels, kernel_size=2, stride=2)\n",
    "        self.dconv1 = nn.Conv2d(in_channels+out_channels, out_channels, kernel_size=3, padding=1)\n",
    "        self.dconv2 = nn.Conv2d(out_channels, out_channels, kernel_size=3, padding=1)\n",
    "        \n",
    "    def forward(self, inputs, skip):\n",
    "        x = self.upconv(inputs)\n",
    "        x = torch.cat([x, skip], dim=1)\n",
    "        x = relu(self.dconv1(x))\n",
    "        x = relu(self.dconv2(x))\n",
    "        \n",
    "        return x"
   ]
  },
  {
   "cell_type": "code",
   "execution_count": 12,
   "id": "8d8b266e",
   "metadata": {},
   "outputs": [],
   "source": [
    "class UNet(nn.Module):\n",
    "    def __init__(self):\n",
    "        super().__init__()\n",
    "        #Encoder part\n",
    "        self.econv1 = Encoder_block(1, 64)\n",
    "        self.econv2 = Encoder_block(64, 128)\n",
    "        self.econv3 = Encoder_block(128, 256)\n",
    "        self.econv4 = Encoder_block(256, 512)\n",
    "        \n",
    "        #Bootleneck\n",
    "        self.b = Conv_block(512, 1024)\n",
    "        \n",
    "        #Decoder part\n",
    "        self.dconv1 = Decoder_block(1024, 512)\n",
    "        self.dconv2 = Decoder_block(512,256)\n",
    "        self.dconv3 = Decoder_block(256, 128)\n",
    "        self.dconv4 = Decoder_block(128, 64)\n",
    "        \n",
    "        #Output layer\n",
    "        self.outconv = nn.Conv2d(64, 2, kernel_size = 1)\n",
    "        \n",
    "    def forward (self, inputs):\n",
    "        #Encoder part\n",
    "        x1, p1 = self.econv1(inputs)\n",
    "        x2, p2 = self.econv2(p1)       \n",
    "        x3, p3 = self.econv3(p2)        \n",
    "        x4, p4 = self.econv4(p3)\n",
    "        \n",
    "        #Bootleneck\n",
    "        b = self.b(p4)\n",
    "        \n",
    "        #Decoder part\n",
    "        d1 = self.dconv1(b, x4)\n",
    "        d2 = self.dconv2(d1, x3)\n",
    "        d3 = self.dconv3(d2, x2)\n",
    "        d4 = self.dconv4(d3, x1)\n",
    "        \n",
    "        #Output layer\n",
    "        out = self.outconv(d4)\n",
    "        \n",
    "        return out\n",
    "    \n",
    "    def predict(self, input_data):\n",
    "        self.eval()\n",
    "        \n",
    "        with torch.no_grad():\n",
    "            pred = self.forward(input_data)\n",
    "            \n",
    "        prediction = torch.cat ((input_data, pred), dim=1)\n",
    "        prediction[:, 0, :, :] += 1.\n",
    "        prediction[:, 0, :, :] *= 50.\n",
    "        prediction[:, 1, :, :] *= 110.\n",
    "        prediction[:, 2, :, :] *= 110.\n",
    "        pred_arr = prediction.numpy()\n",
    "        \n",
    "        from skimage import color\n",
    "        rgb_image = np.transpose(pred_arr, (0, 2, 3, 1))\n",
    "        rgb_image = color.lab2rgb(rgb_image[0])\n",
    "        rgb_image = np.clip(rgb_image, 0, 1) * 255\n",
    "        rgb_image = rgb_image.astype(np.uint8)\n",
    "        image_pil = Image.fromarray(rgb_image)\n",
    "            \n",
    "        self.train()\n",
    "        return image_pil"
   ]
  },
  {
   "cell_type": "code",
   "execution_count": 13,
   "id": "a5a033fe",
   "metadata": {},
   "outputs": [
    {
     "name": "stderr",
     "output_type": "stream",
     "text": [
      "  0%|                                         | 1/357 [01:19<7:54:03, 79.90s/it]\n"
     ]
    },
    {
     "ename": "KeyboardInterrupt",
     "evalue": "",
     "output_type": "error",
     "traceback": [
      "\u001b[0;31m---------------------------------------------------------------------------\u001b[0m",
      "\u001b[0;31mKeyboardInterrupt\u001b[0m                         Traceback (most recent call last)",
      "Cell \u001b[0;32mIn[13], line 29\u001b[0m\n\u001b[1;32m     26\u001b[0m         \u001b[38;5;28mprint\u001b[39m(\u001b[38;5;124mf\u001b[39m\u001b[38;5;124m\"\u001b[39m\u001b[38;5;124mEpoch \u001b[39m\u001b[38;5;132;01m{\u001b[39;00mepoch\u001b[38;5;250m \u001b[39m\u001b[38;5;241m+\u001b[39m\u001b[38;5;250m \u001b[39m\u001b[38;5;241m1\u001b[39m\u001b[38;5;132;01m}\u001b[39;00m\u001b[38;5;124m/\u001b[39m\u001b[38;5;132;01m{\u001b[39;00mepochs\u001b[38;5;132;01m}\u001b[39;00m\u001b[38;5;124m, Loss: \u001b[39m\u001b[38;5;132;01m{\u001b[39;00mepoch_loss\u001b[38;5;132;01m:\u001b[39;00m\u001b[38;5;124m.4f\u001b[39m\u001b[38;5;132;01m}\u001b[39;00m\u001b[38;5;124m\"\u001b[39m)\n\u001b[1;32m     28\u001b[0m model \u001b[38;5;241m=\u001b[39m UNet()\u001b[38;5;241m.\u001b[39mto(\u001b[38;5;124m'\u001b[39m\u001b[38;5;124mcpu\u001b[39m\u001b[38;5;124m'\u001b[39m)\n\u001b[0;32m---> 29\u001b[0m \u001b[43mtrain_model\u001b[49m\u001b[43m(\u001b[49m\u001b[43mmodel\u001b[49m\u001b[43m,\u001b[49m\u001b[43m \u001b[49m\u001b[43mtrain_dl\u001b[49m\u001b[43m,\u001b[49m\u001b[43m \u001b[49m\u001b[43mepochs\u001b[49m\u001b[38;5;241;43m=\u001b[39;49m\u001b[38;5;241;43m100\u001b[39;49m\u001b[43m,\u001b[49m\u001b[43m \u001b[49m\u001b[43mlearning_rate\u001b[49m\u001b[38;5;241;43m=\u001b[39;49m\u001b[38;5;241;43m0.0002\u001b[39;49m\u001b[43m)\u001b[49m\n",
      "Cell \u001b[0;32mIn[13], line 18\u001b[0m, in \u001b[0;36mtrain_model\u001b[0;34m(model, train_dl, epochs, learning_rate)\u001b[0m\n\u001b[1;32m     15\u001b[0m inputs, targets \u001b[38;5;241m=\u001b[39m data[\u001b[38;5;124m'\u001b[39m\u001b[38;5;124mL\u001b[39m\u001b[38;5;124m'\u001b[39m], data[\u001b[38;5;124m'\u001b[39m\u001b[38;5;124mab\u001b[39m\u001b[38;5;124m'\u001b[39m]\n\u001b[1;32m     17\u001b[0m optimizer\u001b[38;5;241m.\u001b[39mzero_grad()\n\u001b[0;32m---> 18\u001b[0m outputs \u001b[38;5;241m=\u001b[39m \u001b[43mmodel\u001b[49m\u001b[43m(\u001b[49m\u001b[43minputs\u001b[49m\u001b[43m)\u001b[49m\n\u001b[1;32m     19\u001b[0m loss \u001b[38;5;241m=\u001b[39m criterion(outputs, targets)\n\u001b[1;32m     20\u001b[0m loss\u001b[38;5;241m.\u001b[39mbackward()\n",
      "File \u001b[0;32m~/Dokumenty/Programy/venv/lib/python3.10/site-packages/torch/nn/modules/module.py:1501\u001b[0m, in \u001b[0;36mModule._call_impl\u001b[0;34m(self, *args, **kwargs)\u001b[0m\n\u001b[1;32m   1496\u001b[0m \u001b[38;5;66;03m# If we don't have any hooks, we want to skip the rest of the logic in\u001b[39;00m\n\u001b[1;32m   1497\u001b[0m \u001b[38;5;66;03m# this function, and just call forward.\u001b[39;00m\n\u001b[1;32m   1498\u001b[0m \u001b[38;5;28;01mif\u001b[39;00m \u001b[38;5;129;01mnot\u001b[39;00m (\u001b[38;5;28mself\u001b[39m\u001b[38;5;241m.\u001b[39m_backward_hooks \u001b[38;5;129;01mor\u001b[39;00m \u001b[38;5;28mself\u001b[39m\u001b[38;5;241m.\u001b[39m_backward_pre_hooks \u001b[38;5;129;01mor\u001b[39;00m \u001b[38;5;28mself\u001b[39m\u001b[38;5;241m.\u001b[39m_forward_hooks \u001b[38;5;129;01mor\u001b[39;00m \u001b[38;5;28mself\u001b[39m\u001b[38;5;241m.\u001b[39m_forward_pre_hooks\n\u001b[1;32m   1499\u001b[0m         \u001b[38;5;129;01mor\u001b[39;00m _global_backward_pre_hooks \u001b[38;5;129;01mor\u001b[39;00m _global_backward_hooks\n\u001b[1;32m   1500\u001b[0m         \u001b[38;5;129;01mor\u001b[39;00m _global_forward_hooks \u001b[38;5;129;01mor\u001b[39;00m _global_forward_pre_hooks):\n\u001b[0;32m-> 1501\u001b[0m     \u001b[38;5;28;01mreturn\u001b[39;00m \u001b[43mforward_call\u001b[49m\u001b[43m(\u001b[49m\u001b[38;5;241;43m*\u001b[39;49m\u001b[43margs\u001b[49m\u001b[43m,\u001b[49m\u001b[43m \u001b[49m\u001b[38;5;241;43m*\u001b[39;49m\u001b[38;5;241;43m*\u001b[39;49m\u001b[43mkwargs\u001b[49m\u001b[43m)\u001b[49m\n\u001b[1;32m   1502\u001b[0m \u001b[38;5;66;03m# Do not call functions when jit is used\u001b[39;00m\n\u001b[1;32m   1503\u001b[0m full_backward_hooks, non_full_backward_hooks \u001b[38;5;241m=\u001b[39m [], []\n",
      "Cell \u001b[0;32mIn[12], line 36\u001b[0m, in \u001b[0;36mUNet.forward\u001b[0;34m(self, inputs)\u001b[0m\n\u001b[1;32m     34\u001b[0m d2 \u001b[38;5;241m=\u001b[39m \u001b[38;5;28mself\u001b[39m\u001b[38;5;241m.\u001b[39mdconv2(d1, x3)\n\u001b[1;32m     35\u001b[0m d3 \u001b[38;5;241m=\u001b[39m \u001b[38;5;28mself\u001b[39m\u001b[38;5;241m.\u001b[39mdconv3(d2, x2)\n\u001b[0;32m---> 36\u001b[0m d4 \u001b[38;5;241m=\u001b[39m \u001b[38;5;28;43mself\u001b[39;49m\u001b[38;5;241;43m.\u001b[39;49m\u001b[43mdconv4\u001b[49m\u001b[43m(\u001b[49m\u001b[43md3\u001b[49m\u001b[43m,\u001b[49m\u001b[43m \u001b[49m\u001b[43mx1\u001b[49m\u001b[43m)\u001b[49m\n\u001b[1;32m     38\u001b[0m \u001b[38;5;66;03m#Output layer\u001b[39;00m\n\u001b[1;32m     39\u001b[0m out \u001b[38;5;241m=\u001b[39m \u001b[38;5;28mself\u001b[39m\u001b[38;5;241m.\u001b[39moutconv(d4)\n",
      "File \u001b[0;32m~/Dokumenty/Programy/venv/lib/python3.10/site-packages/torch/nn/modules/module.py:1501\u001b[0m, in \u001b[0;36mModule._call_impl\u001b[0;34m(self, *args, **kwargs)\u001b[0m\n\u001b[1;32m   1496\u001b[0m \u001b[38;5;66;03m# If we don't have any hooks, we want to skip the rest of the logic in\u001b[39;00m\n\u001b[1;32m   1497\u001b[0m \u001b[38;5;66;03m# this function, and just call forward.\u001b[39;00m\n\u001b[1;32m   1498\u001b[0m \u001b[38;5;28;01mif\u001b[39;00m \u001b[38;5;129;01mnot\u001b[39;00m (\u001b[38;5;28mself\u001b[39m\u001b[38;5;241m.\u001b[39m_backward_hooks \u001b[38;5;129;01mor\u001b[39;00m \u001b[38;5;28mself\u001b[39m\u001b[38;5;241m.\u001b[39m_backward_pre_hooks \u001b[38;5;129;01mor\u001b[39;00m \u001b[38;5;28mself\u001b[39m\u001b[38;5;241m.\u001b[39m_forward_hooks \u001b[38;5;129;01mor\u001b[39;00m \u001b[38;5;28mself\u001b[39m\u001b[38;5;241m.\u001b[39m_forward_pre_hooks\n\u001b[1;32m   1499\u001b[0m         \u001b[38;5;129;01mor\u001b[39;00m _global_backward_pre_hooks \u001b[38;5;129;01mor\u001b[39;00m _global_backward_hooks\n\u001b[1;32m   1500\u001b[0m         \u001b[38;5;129;01mor\u001b[39;00m _global_forward_hooks \u001b[38;5;129;01mor\u001b[39;00m _global_forward_pre_hooks):\n\u001b[0;32m-> 1501\u001b[0m     \u001b[38;5;28;01mreturn\u001b[39;00m \u001b[43mforward_call\u001b[49m\u001b[43m(\u001b[49m\u001b[38;5;241;43m*\u001b[39;49m\u001b[43margs\u001b[49m\u001b[43m,\u001b[49m\u001b[43m \u001b[49m\u001b[38;5;241;43m*\u001b[39;49m\u001b[38;5;241;43m*\u001b[39;49m\u001b[43mkwargs\u001b[49m\u001b[43m)\u001b[49m\n\u001b[1;32m   1502\u001b[0m \u001b[38;5;66;03m# Do not call functions when jit is used\u001b[39;00m\n\u001b[1;32m   1503\u001b[0m full_backward_hooks, non_full_backward_hooks \u001b[38;5;241m=\u001b[39m [], []\n",
      "Cell \u001b[0;32mIn[11], line 11\u001b[0m, in \u001b[0;36mDecoder_block.forward\u001b[0;34m(self, inputs, skip)\u001b[0m\n\u001b[1;32m      9\u001b[0m x \u001b[38;5;241m=\u001b[39m \u001b[38;5;28mself\u001b[39m\u001b[38;5;241m.\u001b[39mupconv(inputs)\n\u001b[1;32m     10\u001b[0m x \u001b[38;5;241m=\u001b[39m torch\u001b[38;5;241m.\u001b[39mcat([x, skip], dim\u001b[38;5;241m=\u001b[39m\u001b[38;5;241m1\u001b[39m)\n\u001b[0;32m---> 11\u001b[0m x \u001b[38;5;241m=\u001b[39m relu(\u001b[38;5;28;43mself\u001b[39;49m\u001b[38;5;241;43m.\u001b[39;49m\u001b[43mdconv1\u001b[49m\u001b[43m(\u001b[49m\u001b[43mx\u001b[49m\u001b[43m)\u001b[49m)\n\u001b[1;32m     12\u001b[0m x \u001b[38;5;241m=\u001b[39m relu(\u001b[38;5;28mself\u001b[39m\u001b[38;5;241m.\u001b[39mdconv2(x))\n\u001b[1;32m     14\u001b[0m \u001b[38;5;28;01mreturn\u001b[39;00m x\n",
      "File \u001b[0;32m~/Dokumenty/Programy/venv/lib/python3.10/site-packages/torch/nn/modules/module.py:1501\u001b[0m, in \u001b[0;36mModule._call_impl\u001b[0;34m(self, *args, **kwargs)\u001b[0m\n\u001b[1;32m   1496\u001b[0m \u001b[38;5;66;03m# If we don't have any hooks, we want to skip the rest of the logic in\u001b[39;00m\n\u001b[1;32m   1497\u001b[0m \u001b[38;5;66;03m# this function, and just call forward.\u001b[39;00m\n\u001b[1;32m   1498\u001b[0m \u001b[38;5;28;01mif\u001b[39;00m \u001b[38;5;129;01mnot\u001b[39;00m (\u001b[38;5;28mself\u001b[39m\u001b[38;5;241m.\u001b[39m_backward_hooks \u001b[38;5;129;01mor\u001b[39;00m \u001b[38;5;28mself\u001b[39m\u001b[38;5;241m.\u001b[39m_backward_pre_hooks \u001b[38;5;129;01mor\u001b[39;00m \u001b[38;5;28mself\u001b[39m\u001b[38;5;241m.\u001b[39m_forward_hooks \u001b[38;5;129;01mor\u001b[39;00m \u001b[38;5;28mself\u001b[39m\u001b[38;5;241m.\u001b[39m_forward_pre_hooks\n\u001b[1;32m   1499\u001b[0m         \u001b[38;5;129;01mor\u001b[39;00m _global_backward_pre_hooks \u001b[38;5;129;01mor\u001b[39;00m _global_backward_hooks\n\u001b[1;32m   1500\u001b[0m         \u001b[38;5;129;01mor\u001b[39;00m _global_forward_hooks \u001b[38;5;129;01mor\u001b[39;00m _global_forward_pre_hooks):\n\u001b[0;32m-> 1501\u001b[0m     \u001b[38;5;28;01mreturn\u001b[39;00m \u001b[43mforward_call\u001b[49m\u001b[43m(\u001b[49m\u001b[38;5;241;43m*\u001b[39;49m\u001b[43margs\u001b[49m\u001b[43m,\u001b[49m\u001b[43m \u001b[49m\u001b[38;5;241;43m*\u001b[39;49m\u001b[38;5;241;43m*\u001b[39;49m\u001b[43mkwargs\u001b[49m\u001b[43m)\u001b[49m\n\u001b[1;32m   1502\u001b[0m \u001b[38;5;66;03m# Do not call functions when jit is used\u001b[39;00m\n\u001b[1;32m   1503\u001b[0m full_backward_hooks, non_full_backward_hooks \u001b[38;5;241m=\u001b[39m [], []\n",
      "File \u001b[0;32m~/Dokumenty/Programy/venv/lib/python3.10/site-packages/torch/nn/modules/conv.py:463\u001b[0m, in \u001b[0;36mConv2d.forward\u001b[0;34m(self, input)\u001b[0m\n\u001b[1;32m    462\u001b[0m \u001b[38;5;28;01mdef\u001b[39;00m \u001b[38;5;21mforward\u001b[39m(\u001b[38;5;28mself\u001b[39m, \u001b[38;5;28minput\u001b[39m: Tensor) \u001b[38;5;241m-\u001b[39m\u001b[38;5;241m>\u001b[39m Tensor:\n\u001b[0;32m--> 463\u001b[0m     \u001b[38;5;28;01mreturn\u001b[39;00m \u001b[38;5;28;43mself\u001b[39;49m\u001b[38;5;241;43m.\u001b[39;49m\u001b[43m_conv_forward\u001b[49m\u001b[43m(\u001b[49m\u001b[38;5;28;43minput\u001b[39;49m\u001b[43m,\u001b[49m\u001b[43m \u001b[49m\u001b[38;5;28;43mself\u001b[39;49m\u001b[38;5;241;43m.\u001b[39;49m\u001b[43mweight\u001b[49m\u001b[43m,\u001b[49m\u001b[43m \u001b[49m\u001b[38;5;28;43mself\u001b[39;49m\u001b[38;5;241;43m.\u001b[39;49m\u001b[43mbias\u001b[49m\u001b[43m)\u001b[49m\n",
      "File \u001b[0;32m~/Dokumenty/Programy/venv/lib/python3.10/site-packages/torch/nn/modules/conv.py:459\u001b[0m, in \u001b[0;36mConv2d._conv_forward\u001b[0;34m(self, input, weight, bias)\u001b[0m\n\u001b[1;32m    455\u001b[0m \u001b[38;5;28;01mif\u001b[39;00m \u001b[38;5;28mself\u001b[39m\u001b[38;5;241m.\u001b[39mpadding_mode \u001b[38;5;241m!=\u001b[39m \u001b[38;5;124m'\u001b[39m\u001b[38;5;124mzeros\u001b[39m\u001b[38;5;124m'\u001b[39m:\n\u001b[1;32m    456\u001b[0m     \u001b[38;5;28;01mreturn\u001b[39;00m F\u001b[38;5;241m.\u001b[39mconv2d(F\u001b[38;5;241m.\u001b[39mpad(\u001b[38;5;28minput\u001b[39m, \u001b[38;5;28mself\u001b[39m\u001b[38;5;241m.\u001b[39m_reversed_padding_repeated_twice, mode\u001b[38;5;241m=\u001b[39m\u001b[38;5;28mself\u001b[39m\u001b[38;5;241m.\u001b[39mpadding_mode),\n\u001b[1;32m    457\u001b[0m                     weight, bias, \u001b[38;5;28mself\u001b[39m\u001b[38;5;241m.\u001b[39mstride,\n\u001b[1;32m    458\u001b[0m                     _pair(\u001b[38;5;241m0\u001b[39m), \u001b[38;5;28mself\u001b[39m\u001b[38;5;241m.\u001b[39mdilation, \u001b[38;5;28mself\u001b[39m\u001b[38;5;241m.\u001b[39mgroups)\n\u001b[0;32m--> 459\u001b[0m \u001b[38;5;28;01mreturn\u001b[39;00m \u001b[43mF\u001b[49m\u001b[38;5;241;43m.\u001b[39;49m\u001b[43mconv2d\u001b[49m\u001b[43m(\u001b[49m\u001b[38;5;28;43minput\u001b[39;49m\u001b[43m,\u001b[49m\u001b[43m \u001b[49m\u001b[43mweight\u001b[49m\u001b[43m,\u001b[49m\u001b[43m \u001b[49m\u001b[43mbias\u001b[49m\u001b[43m,\u001b[49m\u001b[43m \u001b[49m\u001b[38;5;28;43mself\u001b[39;49m\u001b[38;5;241;43m.\u001b[39;49m\u001b[43mstride\u001b[49m\u001b[43m,\u001b[49m\n\u001b[1;32m    460\u001b[0m \u001b[43m                \u001b[49m\u001b[38;5;28;43mself\u001b[39;49m\u001b[38;5;241;43m.\u001b[39;49m\u001b[43mpadding\u001b[49m\u001b[43m,\u001b[49m\u001b[43m \u001b[49m\u001b[38;5;28;43mself\u001b[39;49m\u001b[38;5;241;43m.\u001b[39;49m\u001b[43mdilation\u001b[49m\u001b[43m,\u001b[49m\u001b[43m \u001b[49m\u001b[38;5;28;43mself\u001b[39;49m\u001b[38;5;241;43m.\u001b[39;49m\u001b[43mgroups\u001b[49m\u001b[43m)\u001b[49m\n",
      "\u001b[0;31mKeyboardInterrupt\u001b[0m: "
     ]
    }
   ],
   "source": [
    "import torch\n",
    "import torch.nn as nn\n",
    "import torch.optim as optim\n",
    "from tqdm import tqdm\n",
    "\n",
    "def train_model(model, train_dl, epochs, learning_rate=0.001):\n",
    "    criterion = nn.MSELoss()  # Funkcja straty Mean Squared Error\n",
    "    optimizer = optim.Adam(model.parameters(), lr=learning_rate)\n",
    "    \n",
    "    for epoch in range(epochs):\n",
    "        model.train()\n",
    "        running_loss = 0.0\n",
    "        \n",
    "        for batch_idx, data in tqdm(enumerate(train_dl), total=len(train_dl)):\n",
    "            inputs, targets = data['L'], data['ab']\n",
    "            \n",
    "            optimizer.zero_grad()\n",
    "            outputs = model(inputs)\n",
    "            loss = criterion(outputs, targets)\n",
    "            loss.backward()\n",
    "            optimizer.step()\n",
    "            \n",
    "            running_loss += loss.item()\n",
    "        \n",
    "        epoch_loss = running_loss / len(train_dl)\n",
    "        print(f\"Epoch {epoch + 1}/{epochs}, Loss: {epoch_loss:.4f}\")\n",
    "\n",
    "model = UNet().to('cpu')\n",
    "train_model(model, train_dl, epochs=100, learning_rate=0.0002)"
   ]
  },
  {
   "cell_type": "code",
   "execution_count": 10,
   "id": "0b96ffe8",
   "metadata": {},
   "outputs": [],
   "source": [
    "model = torch.load('./trained_model.pth', map_location='cpu')"
   ]
  },
  {
   "cell_type": "code",
   "execution_count": 11,
   "id": "643054f0",
   "metadata": {},
   "outputs": [
    {
     "name": "stdout",
     "output_type": "stream",
     "text": [
      "----------------------------------------------------------------\n",
      "        Layer (type)               Output Shape         Param #\n",
      "================================================================\n",
      "            Conv2d-1         [-1, 64, 256, 256]             640\n",
      "            Conv2d-2         [-1, 64, 256, 256]          36,928\n",
      "        Conv_block-3         [-1, 64, 256, 256]               0\n",
      "         MaxPool2d-4         [-1, 64, 128, 128]               0\n",
      "     Encoder_block-5  [[-1, 64, 256, 256], [-1, 64, 128, 128]]               0\n",
      "            Conv2d-6        [-1, 128, 128, 128]          73,856\n",
      "            Conv2d-7        [-1, 128, 128, 128]         147,584\n",
      "        Conv_block-8        [-1, 128, 128, 128]               0\n",
      "         MaxPool2d-9          [-1, 128, 64, 64]               0\n",
      "    Encoder_block-10  [[-1, 128, 128, 128], [-1, 128, 64, 64]]               0\n",
      "           Conv2d-11          [-1, 256, 64, 64]         295,168\n",
      "           Conv2d-12          [-1, 256, 64, 64]         590,080\n",
      "       Conv_block-13          [-1, 256, 64, 64]               0\n",
      "        MaxPool2d-14          [-1, 256, 32, 32]               0\n",
      "    Encoder_block-15  [[-1, 256, 64, 64], [-1, 256, 32, 32]]               0\n",
      "           Conv2d-16          [-1, 512, 32, 32]       1,180,160\n",
      "           Conv2d-17          [-1, 512, 32, 32]       2,359,808\n",
      "       Conv_block-18          [-1, 512, 32, 32]               0\n",
      "        MaxPool2d-19          [-1, 512, 16, 16]               0\n",
      "    Encoder_block-20  [[-1, 512, 32, 32], [-1, 512, 16, 16]]               0\n",
      "           Conv2d-21         [-1, 1024, 16, 16]       4,719,616\n",
      "           Conv2d-22         [-1, 1024, 16, 16]       9,438,208\n",
      "       Conv_block-23         [-1, 1024, 16, 16]               0\n",
      "  ConvTranspose2d-24         [-1, 1024, 32, 32]       4,195,328\n",
      "           Conv2d-25          [-1, 512, 32, 32]       7,078,400\n",
      "           Conv2d-26          [-1, 512, 32, 32]       2,359,808\n",
      "    Decoder_block-27          [-1, 512, 32, 32]               0\n",
      "  ConvTranspose2d-28          [-1, 512, 64, 64]       1,049,088\n",
      "           Conv2d-29          [-1, 256, 64, 64]       1,769,728\n",
      "           Conv2d-30          [-1, 256, 64, 64]         590,080\n",
      "    Decoder_block-31          [-1, 256, 64, 64]               0\n",
      "  ConvTranspose2d-32        [-1, 256, 128, 128]         262,400\n",
      "           Conv2d-33        [-1, 128, 128, 128]         442,496\n",
      "           Conv2d-34        [-1, 128, 128, 128]         147,584\n",
      "    Decoder_block-35        [-1, 128, 128, 128]               0\n",
      "  ConvTranspose2d-36        [-1, 128, 256, 256]          65,664\n",
      "           Conv2d-37         [-1, 64, 256, 256]         110,656\n",
      "           Conv2d-38         [-1, 64, 256, 256]          36,928\n",
      "    Decoder_block-39         [-1, 64, 256, 256]               0\n",
      "           Conv2d-40          [-1, 2, 256, 256]             130\n",
      "================================================================\n",
      "Total params: 36,950,338\n",
      "Trainable params: 36,950,338\n",
      "Non-trainable params: 0\n",
      "----------------------------------------------------------------\n",
      "Input size (MB): 0.25\n",
      "Forward/backward pass size (MB): 44563978.00\n",
      "Params size (MB): 140.95\n",
      "Estimated Total Size (MB): 44564119.20\n",
      "----------------------------------------------------------------\n"
     ]
    }
   ],
   "source": [
    "from torchsummary import summary\n",
    "summary(model, (1, 256, 256))"
   ]
  },
  {
   "cell_type": "code",
   "execution_count": 26,
   "id": "1011ff41",
   "metadata": {},
   "outputs": [],
   "source": [
    "def ssim_check(validiation_set):\n",
    "    from skimage.metrics import structural_similarity as ssim\n",
    "    from tqdm.notebook import tqdm\n",
    "    ssim_list = list()\n",
    "    for elements in tqdm(val_set):\n",
    "        pic = glob.glob(elements)\n",
    "        img_test = make_dataloaders(paths=pic, batch_size=1)\n",
    "        channel = next(iter(img_test))\n",
    "\n",
    "        Ls, abs_ = channel['L'], channel['ab']\n",
    "        \n",
    "        pred = model.predict(Ls)\n",
    "    \n",
    "        image_ref = Image.open(elements)\n",
    "        image_ref = image_ref.resize((256, 256), Image.BICUBIC)\n",
    "        image_ref = np.array(image_ref)\n",
    "        \n",
    "        image_pred = np.array(pred)\n",
    "        \n",
    "        ssim_val = ssim(image_ref, image_pred, win_size=3, multichannel=True)\n",
    "        ssim_list.append(ssim_val)       \n",
    "        \n",
    "    return ssim_list"
   ]
  },
  {
   "cell_type": "code",
   "execution_count": 27,
   "id": "12080370",
   "metadata": {},
   "outputs": [
    {
     "data": {
      "application/vnd.jupyter.widget-view+json": {
       "model_id": "1f1a1f51a0ad4e7ebe6cfaa414e69a83",
       "version_major": 2,
       "version_minor": 0
      },
      "text/plain": [
       "  0%|          | 0/1426 [00:00<?, ?it/s]"
      ]
     },
     "metadata": {},
     "output_type": "display_data"
    }
   ],
   "source": [
    "ssim_list = ssim_check(val_set)"
   ]
  },
  {
   "cell_type": "code",
   "execution_count": 28,
   "id": "1afc7779",
   "metadata": {},
   "outputs": [],
   "source": [
    "import pickle"
   ]
  },
  {
   "cell_type": "code",
   "execution_count": 29,
   "id": "4ca06c44",
   "metadata": {},
   "outputs": [],
   "source": [
    "with open('ssim_list.pkl', 'wb') as f:\n",
    "    pickle.dump(ssim_list, f)"
   ]
  },
  {
   "cell_type": "code",
   "execution_count": 30,
   "id": "97204e40",
   "metadata": {},
   "outputs": [],
   "source": [
    "with open('ssim_list.pkl', 'rb') as f:\n",
    "    ssim_list = pickle.load(f)"
   ]
  },
  {
   "cell_type": "code",
   "execution_count": 31,
   "id": "8bdbe730",
   "metadata": {},
   "outputs": [],
   "source": [
    "import matplotlib.pyplot as plt\n",
    "import matplotlib.patches as patches"
   ]
  },
  {
   "cell_type": "code",
   "execution_count": 36,
   "id": "4e3f41a0",
   "metadata": {},
   "outputs": [
    {
     "data": {
      "image/png": "[encoded data removed]",
      "text/plain": [
       "<Figure size 500x500 with 1 Axes>"
      ]
     },
     "metadata": {},
     "output_type": "display_data"
    }
   ],
   "source": [
    "plt.figure(figsize=[5, 5])\n",
    "plt.plot(np.arange(1, 1427, 1), ssim_list, '.', color='black')\n",
    "plt.xlabel('Samples', fontsize = 14)\n",
    "plt.gca().xaxis.set_major_locator(plt.NullLocator())\n",
    "plt.ylabel('SSIM value', fontsize = 14)\n",
    "plt.xlim(0, 1426)\n",
    "\n",
    "rectangle = patches.Rectangle((0, 0.75), 1426, 0.25, linewidth=1, edgecolor='red', facecolor='tomato', alpha=0.5)\n",
    "plt.gca().add_patch(rectangle)\n",
    "plt.tight_layout()\n",
    "plt.savefig('ssim_check.tif', dpi=300)"
   ]
  },
  {
   "cell_type": "code",
   "execution_count": 33,
   "id": "db5320e5",
   "metadata": {},
   "outputs": [],
   "source": [
    "# Sprawdzić jak duży odsetek próbek znajduje się w zakresie 0,75-1"
   ]
  },
  {
   "cell_type": "code",
   "execution_count": 34,
   "id": "c3245bb7",
   "metadata": {},
   "outputs": [
    {
     "name": "stdout",
     "output_type": "stream",
     "text": [
      "Plik nie jest pusty.\n"
     ]
    }
   ],
   "source": [
    "import os\n",
    "\n",
    "file_path = 'ssim_list.pkl'\n",
    "\n",
    "if os.path.getsize(file_path) == 0:\n",
    "    print(\"Plik jest pusty.\")\n",
    "else:\n",
    "    print(\"Plik nie jest pusty.\")"
   ]
  },
  {
   "cell_type": "code",
   "execution_count": null,
   "id": "e670f5c5",
   "metadata": {},
   "outputs": [],
   "source": []
  }
 ],
 "metadata": {
  "kernelspec": {
   "display_name": "venv",
   "language": "python",
   "name": "venv"
  },
  "language_info": {
   "codemirror_mode": {
    "name": "ipython",
    "version": 3
   },
   "file_extension": ".py",
   "mimetype": "text/x-python",
   "name": "python",
   "nbconvert_exporter": "python",
   "pygments_lexer": "ipython3",
   "version": "3.10.12"
  }
 },
 "nbformat": 4,
 "nbformat_minor": 5
}
